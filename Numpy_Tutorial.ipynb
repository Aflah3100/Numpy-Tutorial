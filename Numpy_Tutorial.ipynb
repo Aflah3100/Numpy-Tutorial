{
  "nbformat": 4,
  "nbformat_minor": 0,
  "metadata": {
    "language_info": {
      "codemirror_mode": {
        "name": "ipython",
        "version": 3
      },
      "file_extension": ".py",
      "mimetype": "text/x-python",
      "name": "python",
      "nbconvert_exporter": "python",
      "pygments_lexer": "ipython3",
      "version": "3.9.1"
    },
    "orig_nbformat": 2,
    "kernelspec": {
      "name": "python391jvsc74a57bd0dbbeaa99e1ce8312c5f44c032b64c2bb2370ccec240955f0a688ff76f33c4155",
      "display_name": "Python 3.9.1 64-bit"
    },
    "metadata": {
      "interpreter": {
        "hash": "dbbeaa99e1ce8312c5f44c032b64c2bb2370ccec240955f0a688ff76f33c4155"
      }
    },
    "colab": {
      "name": "Numpy-Tutorial.ipynb",
      "provenance": [],
      "include_colab_link": true
    }
  },
  "cells": [
    {
      "cell_type": "markdown",
      "metadata": {
        "id": "view-in-github",
        "colab_type": "text"
      },
      "source": [
        "<a href=\"https://colab.research.google.com/github/Aflah3100/Numpy-Tutorial/blob/main/Numpy_Tutorial.ipynb\" target=\"_parent\"><img src=\"https://colab.research.google.com/assets/colab-badge.svg\" alt=\"Open In Colab\"/></a>"
      ]
    },
    {
      "cell_type": "markdown",
      "metadata": {
        "id": "p-_Y-NUNQOVR"
      },
      "source": [
        "                                              Python Numpy "
      ]
    },
    {
      "cell_type": "code",
      "metadata": {
        "id": "GOY7dlxVQOVU"
      },
      "source": [
        "import numpy as np"
      ],
      "execution_count": null,
      "outputs": []
    },
    {
      "cell_type": "markdown",
      "metadata": {
        "id": "qIxR9Nw5QOVW"
      },
      "source": [
        "                                        Creating arrays using numpy"
      ]
    },
    {
      "cell_type": "code",
      "metadata": {
        "id": "8QZv-UGkQOVX",
        "outputId": "37e7a658-8190-4694-8219-3cdb77dde2a4"
      },
      "source": [
        "#Creating 1-d array \n",
        "nums=np.array([1,2,3,4,5])\n",
        "\n",
        "print(\"Elements in array are: \")\n",
        "\n",
        "for x in nums:\n",
        "    print(x,end=\"  \")"
      ],
      "execution_count": null,
      "outputs": [
        {
          "output_type": "stream",
          "text": [
            "Elements in array are: \n",
            "1  2  3  4  5  "
          ],
          "name": "stdout"
        }
      ]
    },
    {
      "cell_type": "code",
      "metadata": {
        "id": "r-QjQaQwQOVb",
        "outputId": "6b74c0d6-8b50-4c0d-db04-9145f7da764b"
      },
      "source": [
        "#Creating 2-d array\n",
        "nums=np.array([\n",
        "    [1,2,3],\n",
        "    [4,5,6],\n",
        "    [7,8,9]\n",
        "])\n",
        "print(\"The elements in the 2-d array are: \")\n",
        "for x in range(0,3,1):\n",
        "    for y in range(0,3,1):\n",
        "        print(nums[x,y],end=\"\\t\")\n",
        "    print(\"\\n\")"
      ],
      "execution_count": null,
      "outputs": [
        {
          "output_type": "stream",
          "text": [
            "The elements in the 2-d array are: \n",
            "1\t2\t3\t\n",
            "\n",
            "4\t5\t6\t\n",
            "\n",
            "7\t8\t9\t\n",
            "\n"
          ],
          "name": "stdout"
        }
      ]
    },
    {
      "cell_type": "code",
      "metadata": {
        "id": "zElHAM0_QOVd",
        "outputId": "c65c62b2-06e1-43ab-e4d8-0dbac2e07bb4"
      },
      "source": [
        "#Array operations in numpy\n",
        "\n",
        "num1=np.array([1,2,3])\n",
        "num2=np.array([4,5,6])\n",
        "\n",
        "add=num1+num2\n",
        "sub=num1-num2\n",
        "mul=num1*num2\n",
        "div=num1/num2\n",
        "\n",
        "print(\"Added array: \"+str(add)+\"\\nSubtracted array: \"+str(sub)+\"\\nMultiplied array: \"+str(mul)+\"\\nDivided array: \"+str(div))"
      ],
      "execution_count": null,
      "outputs": [
        {
          "output_type": "stream",
          "text": [
            "Added array: [5 7 9]\n",
            "Subtracted array: [-3 -3 -3]\n",
            "Multiplied array: [ 4 10 18]\n",
            "Divided array: [0.25 0.4  0.5 ]\n"
          ],
          "name": "stdout"
        }
      ]
    },
    {
      "cell_type": "code",
      "metadata": {
        "id": "EKtjHDwpQOVe",
        "outputId": "a19327b5-02c8-493c-b8b8-12fd80d71786"
      },
      "source": [
        "#Creating array using arange\n",
        "nums=np.arange(1,11,1)\n",
        "\n",
        "print(\"Numbers in array are: \")\n",
        "\n",
        "for x in nums:\n",
        "    print(x,end=\"  \")"
      ],
      "execution_count": null,
      "outputs": [
        {
          "output_type": "stream",
          "text": [
            "Numbers in array are: \n",
            "1  2  3  4  5  6  7  8  9  10  "
          ],
          "name": "stdout"
        }
      ]
    },
    {
      "cell_type": "code",
      "metadata": {
        "id": "c5wyILFJQOVf",
        "outputId": "3ddf354e-4b56-462d-8284-1d13a7ef760e"
      },
      "source": [
        "#Creating array using linspace\n",
        "nums=np.linspace(1,11,11)\n",
        "\n",
        "print(\"Numbers in array are: \")\n",
        "\n",
        "for x in nums:\n",
        "    print(int(x),end=\"  \")"
      ],
      "execution_count": null,
      "outputs": [
        {
          "output_type": "stream",
          "text": [
            "Numbers in array are: \n",
            "1  2  3  4  5  6  7  8  9  10  11  "
          ],
          "name": "stdout"
        }
      ]
    },
    {
      "cell_type": "code",
      "metadata": {
        "id": "ek-cfY7FQOVh",
        "outputId": "b4ae3661-e024-4ba2-d295-d72576a9bd42"
      },
      "source": [
        "#Creating array using logspace\n",
        "\n",
        "nums=np.logspace(1,10,10)\n",
        "\n",
        "for x in nums:\n",
        "    print(x,end=\"  \")"
      ],
      "execution_count": null,
      "outputs": [
        {
          "output_type": "stream",
          "text": [
            "10.0  100.0  1000.0  10000.0  100000.0  1000000.0  10000000.0  100000000.0  1000000000.0  10000000000.0  "
          ],
          "name": "stdout"
        }
      ]
    },
    {
      "cell_type": "code",
      "metadata": {
        "id": "_yQo2TyKQOVi",
        "outputId": "e4ff6abc-a1ab-4ea5-c074-7e33833b47a8"
      },
      "source": [
        "#creating array using zeroes \n",
        "\n",
        "zeroarray=np.zeros((2,3),dtype=np.int32)\n",
        "\n",
        "print(\"Array: \")\n",
        "\n",
        "for x in range(0,2,1):\n",
        "    for y in range(0,3,1):\n",
        "        print(zeroarray[x,y],end=\"\\t\")\n",
        "    print(\"\\n\")"
      ],
      "execution_count": null,
      "outputs": [
        {
          "output_type": "stream",
          "text": [
            "Array: \n",
            "0\t0\t0\t\n",
            "\n",
            "0\t0\t0\t\n",
            "\n"
          ],
          "name": "stdout"
        }
      ]
    },
    {
      "cell_type": "code",
      "metadata": {
        "id": "a8NJ79qPQOVj",
        "outputId": "d0e5d0dc-dd2f-4ba1-fb81-32ce123f7ac3"
      },
      "source": [
        "#Creating array using ones\n",
        "\n",
        "onearray=np.ones((2,3),dtype=np.int32)\n",
        "\n",
        "print(\"Numbers in array are: \")\n",
        "\n",
        "for x in range(0,2,1):\n",
        "    for y in range(0,3,1):\n",
        "        print(onearray[x,y],end=\"\\t\")\n",
        "    print(\"\\n\")"
      ],
      "execution_count": null,
      "outputs": [
        {
          "output_type": "stream",
          "text": [
            "Numbers in array are: \n",
            "1\t1\t1\t\n",
            "\n",
            "1\t1\t1\t\n",
            "\n"
          ],
          "name": "stdout"
        }
      ]
    },
    {
      "cell_type": "code",
      "metadata": {
        "id": "oN7NTcqwQOVl",
        "outputId": "3d47cfac-cbff-41b5-8ed2-7585dd7a881c"
      },
      "source": [
        "#Reshaping the array\n",
        "\n",
        "nums=np.array([\n",
        "    [1,2,3],\n",
        "    [7,8,9],\n",
        "])\n",
        "\n",
        "nums.reshape(3,2)\n",
        "\n",
        "print(nums)\n",
        "\n"
      ],
      "execution_count": null,
      "outputs": [
        {
          "output_type": "stream",
          "text": [
            "[[1 2 3]\n",
            " [7 8 9]]\n"
          ],
          "name": "stdout"
        }
      ]
    },
    {
      "cell_type": "code",
      "metadata": {
        "id": "P-kfLz2iQOVm",
        "outputId": "127ae60c-6407-4f71-c714-fc13ea08a6ef"
      },
      "source": [
        "#Flattening the array\n",
        "\n",
        "num1=np.array([\n",
        "    [1,2,3],\n",
        "    [4,5,6],\n",
        "    [7,8,9]\n",
        "])\n",
        "\n",
        "print(\"Actual array : \")\n",
        "\n",
        "print(nums)\n",
        "\n",
        "print(\"Flattened array: \")\n",
        "print(nums.flatten())\n",
        "\n"
      ],
      "execution_count": null,
      "outputs": [
        {
          "output_type": "stream",
          "text": [
            "Actual array : \n",
            "[[1 2 3]\n",
            " [7 8 9]]\n",
            "Flattened array: \n",
            "[1 2 3 7 8 9]\n"
          ],
          "name": "stdout"
        }
      ]
    },
    {
      "cell_type": "code",
      "metadata": {
        "id": "EkwqeEYPQOVo",
        "outputId": "f6bfed6c-e87b-4b4d-cfcb-4b28db9931ec"
      },
      "source": [
        "num1=np.array([1,2,3])\n",
        "num2=np.array([4,5,6])\n",
        "#Concatinating num1 and num2 horizontally and vertically\n",
        "\n",
        "print(\"Horizontally concatinated array: \")\n",
        "\n",
        "print(np.hstack((num1,num2)))\n",
        "\n",
        "print(\"Vertically concatinated array: \")\n",
        "print(np.vstack((num1,num2)))\n"
      ],
      "execution_count": null,
      "outputs": [
        {
          "output_type": "stream",
          "text": [
            "Horizontally concatinated array: \n",
            "[1 2 3 4 5 6]\n",
            "Vertically concatinated array: \n",
            "[[1 2 3]\n",
            " [4 5 6]]\n"
          ],
          "name": "stdout"
        }
      ]
    },
    {
      "cell_type": "code",
      "metadata": {
        "id": "iHggTKBlQOVp",
        "outputId": "11e25703-8f33-40ee-bb36-76673ba2c594"
      },
      "source": [
        "#Random number generator \n",
        "\n",
        "nums=np.random.normal(10,4,5)\n",
        "print(\"Random numbers are: \")\n",
        "for x in nums:\n",
        "    print(x,end=\"  \")\n",
        "\n",
        "print(\"\\n\")\n",
        "\n",
        "num2=np.random.randint(100,size=(1,5))\n",
        "\n",
        "\n",
        "print(\"Random numbers generated are: \")\n",
        "\n",
        "for x in range(0,1,1):\n",
        "    for y in range(0,5,1):\n",
        "        print(num2[x,y],end=\"  \")\n",
        "    print(\"\\n\")"
      ],
      "execution_count": null,
      "outputs": [
        {
          "output_type": "stream",
          "text": [
            "Random numbers are: \n",
            "8.12324864764884  6.094397300017059  6.1827878758917825  11.395483557803768  5.9258499893835666  \n",
            "\n",
            "Random numbers generated are: \n",
            "41  70  79  75  60  \n",
            "\n"
          ],
          "name": "stdout"
        }
      ]
    },
    {
      "cell_type": "code",
      "metadata": {
        "id": "-9dBOUhzQOVr",
        "outputId": "db932660-d193-435b-fd0f-9f47fa91a6ae"
      },
      "source": [
        "#Slicing arrays\n",
        "\n",
        "numbers=np.array([\n",
        "    [1,2,3,5],\n",
        "    [4,5,6,7],\n",
        "    [8,9,10,11],\n",
        "    [12,13,14,15]\n",
        "])\n",
        "\n",
        "print(\"First row: \"+str(numbers[0]))\n",
        "\n",
        "print(\"First column : \"+str(numbers[:,0]))\n",
        "\n",
        "print(\"Last 2 rows: \"+str(numbers[2:4]))\n",
        "\n",
        "print(\"First 3 numbers in 2nd row \"+str(numbers[1,0:3:1]))"
      ],
      "execution_count": null,
      "outputs": [
        {
          "output_type": "stream",
          "text": [
            "First row: [1 2 3 5]\n",
            "First column : [ 1  4  8 12]\n",
            "Last 2 rows: [[ 8  9 10 11]\n",
            " [12 13 14 15]]\n",
            "First 3 numbers in 2nd row [4 5 6]\n"
          ],
          "name": "stdout"
        }
      ]
    },
    {
      "cell_type": "code",
      "metadata": {
        "id": "Ebm3jvL8QOVs",
        "outputId": "1df644b6-ccc8-4d89-dc7f-845a493c5d06"
      },
      "source": [
        "numbers=np.array([1,2,3,10,111,18])\n",
        "\n",
        "#Maximum number \n",
        "\n",
        "print(\"Maximum number in the array: \"+str(np.max(numbers)))\n",
        "\n",
        "#Minimum number\n",
        "\n",
        "print(\"Minimum number in the array: \"+str(np.min(numbers)))\n",
        "\n",
        "#Mean of the array\n",
        "\n",
        "print(\"Mean of the numbers in the array : \"+str(np.mean(numbers)))\n",
        "\n",
        "#Median of the array\n",
        "\n",
        "print(\"Median of the numbers in the array: \"+str(np.mean(numbers)))\n",
        "\n",
        "#Standard deviation of the array\n",
        "\n",
        "print(\"Stadard deviation of the numbers in the array: \"+str(np.std(numbers)))"
      ],
      "execution_count": null,
      "outputs": [
        {
          "output_type": "stream",
          "text": [
            "Maximum number in the array: 111\n",
            "Minimum number in the array: 1\n",
            "Mean of the numbers in the array : 24.166666666666668\n",
            "Median of the numbers in the array: 24.166666666666668\n",
            "Stadard deviation of the numbers in the array: 39.274320136982915\n"
          ],
          "name": "stdout"
        }
      ]
    },
    {
      "cell_type": "markdown",
      "metadata": {
        "id": "TwanWgtzQOVt"
      },
      "source": [
        "                                                  Creating Matrix"
      ]
    },
    {
      "cell_type": "code",
      "metadata": {
        "id": "k1IcxnOrQOVu",
        "outputId": "3621e2cc-3717-46f5-906a-4e84c568a4db"
      },
      "source": [
        "matrix1=np.matrix('1,2,3;4,5,6;7,8,9')\n",
        "\n",
        "print(\"Matrix1: \\n\"+str(matrix1))\n",
        "\n",
        "matris2=np.matrix(np.zeros((3,3),dtype=np.int32))\n",
        "\n",
        "print(\"Matrix2: \\n\"+str(matris2))"
      ],
      "execution_count": null,
      "outputs": [
        {
          "output_type": "stream",
          "text": [
            "Matrix1: \n",
            "[[1 2 3]\n",
            " [4 5 6]\n",
            " [7 8 9]]\n",
            "Matrix2: \n",
            "[[0 0 0]\n",
            " [0 0 0]\n",
            " [0 0 0]]\n"
          ],
          "name": "stdout"
        }
      ]
    },
    {
      "cell_type": "code",
      "metadata": {
        "id": "g09jmvgRQOVv",
        "outputId": "69e24abe-4545-4481-bf66-d88332d84b40"
      },
      "source": [
        "matrix1=np.matrix('1,2,3;4,5,6;7,8,9')\n",
        "\n",
        "print(\"Matrix1: \\n\"+str(matrix1))\n",
        "\n",
        "#Finding the diagnol of the matrix\n",
        "\n",
        "print(\"Diagnol: \"+str(matrix1.diagonal()))\n",
        "\n",
        "#Trace of the matrix:\n",
        "\n",
        "print(\"Trace: \"+str(matrix1.trace()))\n",
        "\n",
        "#Transpose\n",
        "\n",
        "print(\"Transpose:\\n \"+str(matrix.transpose()))"
      ],
      "execution_count": null,
      "outputs": [
        {
          "output_type": "stream",
          "text": [
            "Matrix1: \n",
            "[[1 2 3]\n",
            " [4 5 6]\n",
            " [7 8 9]]\n",
            "Diagnol: [[1 5 9]]\n",
            "Trace: [[15]]\n",
            "Transpose:\n",
            " [[1 4 7]\n",
            " [2 5 8]\n",
            " [3 6 9]]\n"
          ],
          "name": "stdout"
        }
      ]
    },
    {
      "cell_type": "code",
      "metadata": {
        "id": "QuIiQOHhQOVw",
        "outputId": "84fc476f-0f36-4eec-dcd8-eb9d0d9bf424"
      },
      "source": [
        "#Finding dot product of 2 arrays\n",
        "\n",
        "num1=np.array([1,2,4])\n",
        "num2=np.array([4,5,6])\n",
        "\n",
        "result=np.dot(num1,num2)\n",
        "\n",
        "print(\"Dot product: \"+str(result))"
      ],
      "execution_count": null,
      "outputs": [
        {
          "output_type": "stream",
          "text": [
            "Dot product: 38\n"
          ],
          "name": "stdout"
        }
      ]
    },
    {
      "cell_type": "code",
      "metadata": {
        "id": "xqxPyQ5YQOVx",
        "outputId": "a81a5424-71ab-45e1-ffe7-4e9bea78cbe5"
      },
      "source": [
        "#Matrix multiplication of 2 arrays\n",
        "\n",
        "num1=np.array([\n",
        "    [1,2,1],\n",
        "    [3,4,5]\n",
        "\n",
        "])\n",
        "\n",
        "num2=np.array([\n",
        "    [5,6],\n",
        "    [7,8],\n",
        "    [9,10]\n",
        "])\n",
        "\n",
        "print(\"Matrix Multiplication : \\n\"+str(np.matmul(num1,num2)))"
      ],
      "execution_count": null,
      "outputs": [
        {
          "output_type": "stream",
          "text": [
            "Matrix Multiplication : \n",
            "[[ 28  32]\n",
            " [ 88 100]]\n"
          ],
          "name": "stdout"
        }
      ]
    },
    {
      "cell_type": "code",
      "metadata": {
        "id": "_gViKN6OQOVy",
        "outputId": "f36ac783-d50d-43e7-a10b-53da34fac564"
      },
      "source": [
        "num1=np.array([\n",
        "    [10,11,12],\n",
        "    [13,14,15],\n",
        "    [16,17,29]\n",
        "])\n",
        "\n",
        "#Finding the Determinant\n",
        "print(\"Determinant: \"+str(np.linalg.det(num1)))\n",
        "\n",
        "#Finding the inverse\n",
        "\n",
        "print(\"Inverse:\\n\"+str(np.linalg.inv(num1)))\n",
        "\n",
        "#Rank of the matrix\n",
        "\n",
        "print(\"Rank: \"+str(np.linalg.matrix_rank(num1)))\n",
        "\n",
        "#eigen values and eigen vector\n",
        "\n",
        "eigvalue,eigvector=np.linalg.eig(num1)\n",
        "\n",
        "print(\"Eigenvalue: \"+str(eigvalue))\n",
        "\n",
        "print(\"Eigen vector:\\n\"+str(eigvector))\n",
        "\n",
        "\n",
        "\n"
      ],
      "execution_count": null,
      "outputs": [
        {
          "output_type": "stream",
          "text": [
            "Determinant: -33.0\n",
            "Inverse:\n",
            "[[-4.57575758  3.48484848  0.09090909]\n",
            " [ 4.15151515 -2.96969697 -0.18181818]\n",
            " [ 0.09090909 -0.18181818  0.09090909]]\n",
            "Rank: 3\n",
            "Eigenvalue: [47.84385758 -0.13046989  5.28661231]\n",
            "Eigen vector:\n",
            "[[-0.39001187 -0.74844014 -0.41394214]\n",
            " [-0.49417294  0.66275664 -0.5842043 ]\n",
            " [-0.77697095  0.02431061  0.69810976]]\n"
          ],
          "name": "stdout"
        }
      ]
    }
  ]
}